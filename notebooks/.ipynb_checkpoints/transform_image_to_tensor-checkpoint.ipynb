{
 "cells": [
  {
   "cell_type": "code",
   "execution_count": 15,
   "id": "f2722015",
   "metadata": {},
   "outputs": [],
   "source": [
    "import numpy as np\n",
    "import pandas as pd\n",
    "import seaborn as sns\n",
    "\n",
    "import os\n",
    "import random\n",
    "import shutil\n",
    "import glob\n",
    "\n",
    "import pandas as pd\n",
    "import matplotlib.pyplot as plt\n",
    "from os import listdir\n",
    "from os.path import isfile, join\n",
    "from PIL import Image\n",
    "import tensorflow as tf\n",
    "\n",
    "from tensorflow.keras.preprocessing.image import ImageDataGenerator\n",
    "from tensorflow.keras.utils import image_dataset_from_directory\n",
    "from tensorflow.compat.v1.data import make_one_shot_iterator\n",
    "from tensorflow.keras.layers import RandomFlip\n",
    "from tensorflow.keras.layers import RandomRotation\n",
    "from tensorflow.keras.layers import RandomCrop\n",
    "from tensorflow.keras.layers import RandomTranslation\n",
    "from tensorflow.keras.layers import Rescaling\n",
    "from tensorflow.keras.layers import RandomBrightness\n",
    "from tensorflow.keras.layers import RandomContrast\n",
    "from tensorflow.keras import Sequential\n",
    "from tensorflow.keras.layers import Conv2D\n",
    "from tensorflow.keras.layers import MaxPooling2D\n",
    "from tensorflow.keras.layers import Flatten\n",
    "from tensorflow.keras.layers import Dense\n",
    "from tensorflow.keras.layers import Dropout\n",
    "from tensorflow.keras.losses import SparseCategoricalCrossentropy\n",
    "from tensorflow.keras.callbacks import EarlyStopping\n",
    "from tensorflow.keras.applications.inception_v3 import InceptionV3\n",
    "from tensorflow.keras.layers import Convolution2D, MaxPooling2D, ZeroPadding2D, GlobalAveragePooling2D, AveragePooling2D\n",
    "from tensorflow.keras.callbacks import ModelCheckpoint, CSVLogger\n",
    "from tensorflow.keras.optimizers import SGD\n",
    "from tensorflow.keras.regularizers import l2\n",
    "from tensorflow.keras.models import Sequential, Model\n",
    "from tensorflow.keras.applications.xception import Xception\n",
    "from tensorflow.keras.applications.resnet import ResNet50\n",
    "from tensorflow.keras import models\n",
    "from tensorflow.keras.layers import Input"
   ]
  },
  {
   "cell_type": "code",
   "execution_count": 9,
   "id": "4f1c1bfe",
   "metadata": {},
   "outputs": [],
   "source": [
    "# create labels dataframes\n",
    "colnames=['img_name', 'label'] \n",
    "\n",
    "train_df = pd.read_csv('/Users/mariiamorskovatykh/code/mariamorskovatykh/recipify/raw_data/annot/train_info.csv', names=colnames, header=None)\n",
    "test_df = pd.read_csv('/Users/mariiamorskovatykh/code/mariamorskovatykh/recipify/raw_data/annot/test_info.csv', names=colnames, header=None)\n",
    "val_df = pd.read_csv('/Users/mariiamorskovatykh/code/mariamorskovatykh/recipify/raw_data/annot/val_info.csv', names=colnames, header=None)"
   ]
  },
  {
   "cell_type": "code",
   "execution_count": 40,
   "id": "7210272f",
   "metadata": {},
   "outputs": [
    {
     "data": {
      "text/plain": [
       "118475"
      ]
     },
     "execution_count": 40,
     "metadata": {},
     "output_type": "execute_result"
    }
   ],
   "source": [
    "len(train_df)"
   ]
  },
  {
   "cell_type": "code",
   "execution_count": 11,
   "id": "f088e08e",
   "metadata": {},
   "outputs": [],
   "source": [
    "# directories:\n",
    "\n",
    "val_dir_unsorted = '/Users/lisaheilscher/code/mariamorskovatykh/recipify/raw_data/images/val_set/'\n",
    "train_dir_unsorted = '/Users/mariiamorskovatykh/code/mariamorskovatykh/recipify/raw_data/train_set_unsorted/'"
   ]
  },
  {
   "cell_type": "code",
   "execution_count": 59,
   "id": "d7402bc7",
   "metadata": {},
   "outputs": [],
   "source": [
    "direct = \"/Users/mariiamorskovatykh/code/mariamorskovatykh/recipify/raw_data/train_set_unsorted/*jpg\""
   ]
  },
  {
   "cell_type": "code",
   "execution_count": 37,
   "id": "cbb12718",
   "metadata": {},
   "outputs": [],
   "source": [
    "X_val = []\n",
    "path = train_subset_unsorted\n",
    "\n",
    "X_train = tf.zeros([0, 156, 156, 3])\n",
    "\n",
    "for filename in glob.glob(path):\n",
    "    im=Image.open(filename)\n",
    "    #im = np.array(im)\n",
    "    #X_train_subset.append(im)\n",
    "    \n",
    "    img=tf.convert_to_tensor(im)\n",
    "    img = tf.image.resize(img, [156, 156])\n",
    "    img = tf.expand_dims(img, axis=0)\n",
    "    \n",
    "    X_train=tf.concat([X_train, img], 0)\n"
   ]
  },
  {
   "cell_type": "code",
   "execution_count": 49,
   "id": "ddd427b1",
   "metadata": {},
   "outputs": [],
   "source": [
    "pathes = glob.glob(train_subset_unsorted)"
   ]
  },
  {
   "cell_type": "code",
   "execution_count": null,
   "id": "9a83b2dd",
   "metadata": {},
   "outputs": [],
   "source": [
    "pathes[0]"
   ]
  },
  {
   "cell_type": "code",
   "execution_count": 60,
   "id": "44c480fa",
   "metadata": {},
   "outputs": [
    {
     "data": {
      "text/plain": [
       "118475"
      ]
     },
     "execution_count": 60,
     "metadata": {},
     "output_type": "execute_result"
    }
   ],
   "source": [
    "pathes = glob.glob(direct)\n",
    "num_images = len(pathes)\n",
    "num_images"
   ]
  },
  {
   "cell_type": "code",
   "execution_count": null,
   "id": "862a2da9",
   "metadata": {},
   "outputs": [],
   "source": [
    "pathes = glob.glob(direct)\n",
    "num_images = len(pathes)\n",
    "batchsize = 40000\n",
    "\n",
    "\n",
    "X_train = tf.zeros([0, 156, 156, 3])\n",
    "\n",
    "for i in range(0, num_images, batchsize):\n",
    "    X_train_temp = tf.zeros([0, 156, 156, 3])\n",
    "    batch = pathes[i:i+batchsize]\n",
    "    \n",
    "    for filename in batch:\n",
    "        im=Image.open(filename)\n",
    "        img=tf.convert_to_tensor(im)\n",
    "        img = tf.image.resize(img, [156, 156])\n",
    "        img = tf.expand_dims(img, axis=0)\n",
    "        X_train_temp=tf.concat([X_train_temp, img], 0)\n",
    "    \n",
    "    X_train=tf.concat([X_train, X_train_temp], 0)"
   ]
  },
  {
   "cell_type": "code",
   "execution_count": null,
   "id": "6586e680",
   "metadata": {},
   "outputs": [],
   "source": [
    "X_train.shape"
   ]
  }
 ],
 "metadata": {
  "kernelspec": {
   "display_name": "Python 3 (ipykernel)",
   "language": "python",
   "name": "python3"
  },
  "language_info": {
   "codemirror_mode": {
    "name": "ipython",
    "version": 3
   },
   "file_extension": ".py",
   "mimetype": "text/x-python",
   "name": "python",
   "nbconvert_exporter": "python",
   "pygments_lexer": "ipython3",
   "version": "3.10.6"
  },
  "toc": {
   "base_numbering": 1,
   "nav_menu": {},
   "number_sections": true,
   "sideBar": true,
   "skip_h1_title": false,
   "title_cell": "Table of Contents",
   "title_sidebar": "Contents",
   "toc_cell": false,
   "toc_position": {},
   "toc_section_display": true,
   "toc_window_display": false
  },
  "varInspector": {
   "cols": {
    "lenName": 16,
    "lenType": 16,
    "lenVar": 40
   },
   "kernels_config": {
    "python": {
     "delete_cmd_postfix": "",
     "delete_cmd_prefix": "del ",
     "library": "var_list.py",
     "varRefreshCmd": "print(var_dic_list())"
    },
    "r": {
     "delete_cmd_postfix": ") ",
     "delete_cmd_prefix": "rm(",
     "library": "var_list.r",
     "varRefreshCmd": "cat(var_dic_list()) "
    }
   },
   "types_to_exclude": [
    "module",
    "function",
    "builtin_function_or_method",
    "instance",
    "_Feature"
   ],
   "window_display": false
  }
 },
 "nbformat": 4,
 "nbformat_minor": 5
}
